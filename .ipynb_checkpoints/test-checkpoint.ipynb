{
 "cells": [
  {
   "cell_type": "code",
   "execution_count": 8,
   "metadata": {
    "collapsed": true
   },
   "outputs": [],
   "source": [
    "import tensorflow as tf\n",
    "import data.reader as reader\n",
    "import datetime\n",
    "import os\n",
    "import logging\n",
    "import signal\n",
    "import data.reader as reader"
   ]
  },
  {
   "cell_type": "code",
   "execution_count": 9,
   "metadata": {
    "collapsed": true
   },
   "outputs": [],
   "source": [
    "def construct_graph(graph):\n",
    "  size = FLAGS.lstm_size\n",
    "  batch_size = FLAGS.batch_size\n",
    "  num_steps = FLAGS.num_steps\n",
    "  num_layers = FLAGS.num_layers\n",
    "\n",
    "  with graph.as_default():\n",
    "    inputs, labels = reader.get_batch(batch_size, num_steps)\n",
    "\n",
    "    lstm_cell = tf.nn.rnn_cell.BasicLSTMCell(size, forget_bias=0.0, state_is_tuple=True)\n",
    "    cell = tf.nn.rnn_cell.MultiRNNCell([lstm_cell] * num_layers, state_is_tuple=True)\n",
    "    initial_state = cell.zero_state(batch_size, tf.float32)\n",
    "    \n",
    "    outputs = []\n",
    "    state = initial_state\n",
    "    with tf.variable_scope(\"RNN\"):\n",
    "      embedding = tf.get_variable(\"embedding\", shape=[vocab_size, size], dtype=tf.float32)\n",
    "      embed_inputs = tf.nn.embedding_lookup(embedding, inputs)\n",
    "      outputs, state = tf.nn.dynamic_rnn(cell, embed_inputs, initial_state=initial_state)\n",
    "      \n",
    "    with tf.name_scope('loss'):\n",
    "      output = tf.reshape(tf.concat(1, outputs), [-1, size])\n",
    "      softmax_w = tf.get_variable(\"softmax_w\", [size, vocab_size], dtype=tf.float32)\n",
    "      softmax_b = tf.get_variable(\"softmax_b\", [vocab_size], dtype=tf.float32)\n",
    "      logits = tf.matmul(output, softmax_w) + softmax_b\n",
    "      targets = tf.reshape(labels, [-1])\n",
    "      #weights = tf.cast(targets > 0, tf.float32) # (PAD)は重み0、それ以外は1\n",
    "      weights = tf.ones([batch_size * num_steps], dtype=tf.float32)\n",
    "      sequence_loss = tf.nn.seq2seq.sequence_loss_by_example(\n",
    "          [logits],\n",
    "          [targets],\n",
    "          [weights])\n",
    "      loss = tf.reduce_sum(sequence_loss) / batch_size # perplexity\n",
    "      tf.scalar_summary('loss', loss)\n",
    "      probs = tf.reshape(tf.nn.softmax(logits), tf.shape(logits))\n",
    "    # Optimizer.\n",
    "    with tf.name_scope('optimizer'):\n",
    "      global_step = tf.Variable(0, trainable=False)\n",
    "      learning_rate = tf.train.exponential_decay(\n",
    "        FLAGS.learning_rate, global_step, 10000, 0.96, staircase=True)\n",
    "      optimizer = tf.train.GradientDescentOptimizer(learning_rate)\n",
    "      gradients, v = zip(*optimizer.compute_gradients(loss))\n",
    "      gradients, _ = tf.clip_by_global_norm(gradients, 1.25)\n",
    "      optimizer = optimizer.apply_gradients(\n",
    "        zip(gradients, v), global_step=global_step)\n",
    "      tf.scalar_summary('learning_rate', learning_rate)\n",
    "    \n",
    "    # Saver\n",
    "    saver = tf.train.Saver()\n",
    "\n",
    "    # Summary\n",
    "    summary = tf.merge_all_summaries()\n",
    "  return optimizer, loss, inputs, probs, learning_rate, vocabulary, saver, summary"
   ]
  },
  {
   "cell_type": "code",
   "execution_count": 10,
   "metadata": {
    "collapsed": true
   },
   "outputs": [],
   "source": [
    "def train():\n",
    "  graph = tf.Graph()\n",
    "  optimizer, loss, inputs, probs, learning_rate, vocabulary, saver, summary = construct_graph(graph)\n",
    "\n",
    "  train_writer = tf.train.SummaryWriter('tensorboard/train', graph)\n",
    "\n",
    "  today = datetime.date.today().strftime(\"%Y%m%d\")\n",
    "  checkpoint_dir = \"checkpoints/{}\".format(today)\n",
    "\n",
    "  with tf.Session(graph=graph) as sess:\n",
    "    sess.run(tf.global_variables_initializer())\n",
    "    coord = tf.train.Coordinator()\n",
    "    threads = tf.train.start_queue_runners(sess=sess, coord=coord)\n",
    "    \n",
    "    try:\n",
    "      step = 0\n",
    "      while not coord.should_stop():\n",
    "        _, train_loss, train_inputs, train_probs, train_lr, train_summary = sess.run([optimizer, loss, inputs, probs, learning_rate, summary])\n",
    "        train_writer.add_summary(train_summary, step)\n",
    "        train_writer.flush()\n",
    "        \n",
    "#         if step % 100 == 0:\n",
    "#           logger.info(\"=\" * 80)\n",
    "#           logger.info(\"Loss at step {}: {}\".format(step, train_loss))\n",
    "#           x_string = utils.codes_to_string(train_inputs[0], vocabulary)\n",
    "#           d_string = utils.codes_to_string(train_probs[0:140].argmax(axis=1), vocabulary)\n",
    "#           logger.info('  Input: ' + x_string)\n",
    "#           logger.info('Decoded: ' + d_string)\n",
    "#         if step % 1000 == 0:\n",
    "#           logger.info(\"Learning rate: {}\".format(train_lr))\n",
    "#           os.makedirs(checkpoint_dir, exist_ok=True)\n",
    "#           save_path = saver.save(sess, \"checkpoints/{}/model.ckpt\".format(today))\n",
    "#           logger.info(\"Model saved in file: %s\" % save_path)\n",
    "        step += 1\n",
    "\n",
    "    except KeyboardInterrupt:\n",
    "      logger.warn('Interrupted')\n",
    "      save_path = saver.save(sess, \"checkpoints/{}/model.ckpt\".format(today))\n",
    "      logger.info(\"Model saved in file: %s\" % save_path)      \n",
    "      coord.request_stop()\n",
    "    except SystemExit as e:\n",
    "      logger.warn('Exited')\n",
    "      save_path = saver.save(sess, \"checkpoints/{}/model.ckpt\".format(today))\n",
    "      logger.info(\"Model saved in file: %s\" % save_path)   \n",
    "      coord.request_stop(e)\n",
    "    except Exception as e:\n",
    "      logger.error('Exception: {}'.format(e.args))\n",
    "      coord.request_stop(e)\n",
    "    finally:\n",
    "      coord.request_stop()\n",
    "      coord.join(threads)"
   ]
  },
  {
   "cell_type": "code",
   "execution_count": null,
   "metadata": {
    "collapsed": true
   },
   "outputs": [],
   "source": []
  }
 ],
 "metadata": {
  "kernelspec": {
   "display_name": "Python 3",
   "language": "python",
   "name": "python3"
  },
  "language_info": {
   "codemirror_mode": {
    "name": "ipython",
    "version": 3
   },
   "file_extension": ".py",
   "mimetype": "text/x-python",
   "name": "python",
   "nbconvert_exporter": "python",
   "pygments_lexer": "ipython3",
   "version": "3.5.1"
  }
 },
 "nbformat": 4,
 "nbformat_minor": 0
}
